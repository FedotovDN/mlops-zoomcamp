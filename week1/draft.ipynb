{
 "cells": [
  {
   "cell_type": "code",
   "execution_count": 28,
   "id": "9b0a4260",
   "metadata": {},
   "outputs": [],
   "source": [
    "import pandas as pd\n",
    "import numpy as np\n",
    "from sklearn.feature_extraction import DictVectorizer\n",
    "from sklearn.linear_model import LinearRegression\n",
    "from sklearn.metrics import mean_squared_error"
   ]
  },
  {
   "cell_type": "code",
   "execution_count": 2,
   "id": "99f86556",
   "metadata": {},
   "outputs": [],
   "source": [
    "data1 = pd.read_parquet('fhv_tripdata_2021-01.parquet')\n",
    "data2 = pd.read_parquet('fhv_tripdata_2021-02.parquet')"
   ]
  },
  {
   "cell_type": "code",
   "execution_count": 3,
   "id": "d24e6103",
   "metadata": {},
   "outputs": [
    {
     "data": {
      "text/plain": [
       "1154112"
      ]
     },
     "execution_count": 3,
     "metadata": {},
     "output_type": "execute_result"
    }
   ],
   "source": [
    "len(data1)"
   ]
  },
  {
   "cell_type": "code",
   "execution_count": 6,
   "id": "16b6a276",
   "metadata": {},
   "outputs": [],
   "source": [
    "data1['duration'] = data1.dropOff_datetime - data1.pickup_datetime\n",
    "data1.duration = data1.duration.apply(lambda td: td.total_seconds() / 60)\n",
    "\n",
    "data2['duration'] = data2.dropOff_datetime - data2.pickup_datetime\n",
    "data2.duration = data2.duration.apply(lambda td: td.total_seconds() / 60)"
   ]
  },
  {
   "cell_type": "code",
   "execution_count": 7,
   "id": "d73e98c5",
   "metadata": {},
   "outputs": [
    {
     "data": {
      "text/plain": [
       "19.1672240937939"
      ]
     },
     "execution_count": 7,
     "metadata": {},
     "output_type": "execute_result"
    }
   ],
   "source": [
    "data1.duration.mean()"
   ]
  },
  {
   "cell_type": "code",
   "execution_count": 8,
   "id": "58546ab6",
   "metadata": {},
   "outputs": [],
   "source": [
    "data1 = data1[(data1.duration >= 1) & (data1.duration <= 60)]\n",
    "data2 = data2[(data2.duration >= 1) & (data2.duration <= 60)]"
   ]
  },
  {
   "cell_type": "code",
   "execution_count": 10,
   "id": "ddfa2201",
   "metadata": {},
   "outputs": [
    {
     "name": "stderr",
     "output_type": "stream",
     "text": [
      "<ipython-input-10-3ed78669103c>:1: SettingWithCopyWarning: \n",
      "A value is trying to be set on a copy of a slice from a DataFrame.\n",
      "Try using .loc[row_indexer,col_indexer] = value instead\n",
      "\n",
      "See the caveats in the documentation: https://pandas.pydata.org/pandas-docs/stable/user_guide/indexing.html#returning-a-view-versus-a-copy\n",
      "  data1.PUlocationID = data1.PUlocationID.fillna(-1)\n",
      "<ipython-input-10-3ed78669103c>:2: SettingWithCopyWarning: \n",
      "A value is trying to be set on a copy of a slice from a DataFrame.\n",
      "Try using .loc[row_indexer,col_indexer] = value instead\n",
      "\n",
      "See the caveats in the documentation: https://pandas.pydata.org/pandas-docs/stable/user_guide/indexing.html#returning-a-view-versus-a-copy\n",
      "  data1.DOlocationID = data1.DOlocationID.fillna(-1)\n"
     ]
    }
   ],
   "source": [
    "data1.PUlocationID = data1.PUlocationID.fillna(-1)\n",
    "data1.DOlocationID = data1.DOlocationID.fillna(-1)\n",
    "data2.PUlocationID = data2.PUlocationID.fillna(-1)\n",
    "data2.DOlocationID = data2.DOlocationID.fillna(-1)"
   ]
  },
  {
   "cell_type": "code",
   "execution_count": 15,
   "id": "f081acd4",
   "metadata": {},
   "outputs": [
    {
     "data": {
      "text/plain": [
       "-1.0      83.527328\n",
       " 221.0     0.750568\n",
       " 206.0     0.612438\n",
       " 129.0     0.484671\n",
       " 115.0     0.367805\n",
       "            ...    \n",
       " 111.0     0.000451\n",
       " 27.0      0.000360\n",
       " 34.0      0.000270\n",
       " 2.0       0.000180\n",
       " 110.0     0.000090\n",
       "Name: PUlocationID, Length: 262, dtype: float64"
      ]
     },
     "execution_count": 15,
     "metadata": {},
     "output_type": "execute_result"
    }
   ],
   "source": [
    "100.0*data1.PUlocationID.value_counts()/len(data1)"
   ]
  },
  {
   "cell_type": "code",
   "execution_count": 23,
   "id": "9c8edfb7",
   "metadata": {},
   "outputs": [],
   "source": [
    "categorical = ['PUlocationID', 'DOlocationID']"
   ]
  },
  {
   "cell_type": "code",
   "execution_count": 47,
   "id": "57cb013a",
   "metadata": {},
   "outputs": [],
   "source": [
    "data = pd.concat([data1, data2]).reset_index(drop=True)"
   ]
  },
  {
   "cell_type": "code",
   "execution_count": 48,
   "id": "fd7feace",
   "metadata": {},
   "outputs": [],
   "source": [
    "data[categorical] = data[categorical].astype(str)"
   ]
  },
  {
   "cell_type": "code",
   "execution_count": 56,
   "id": "bb034030",
   "metadata": {},
   "outputs": [],
   "source": [
    "train_dicts = data[categorical].to_dict(orient='records')\n",
    "dv = DictVectorizer()\n",
    "X_train = dv.fit_transform(train_dicts)"
   ]
  },
  {
   "cell_type": "code",
   "execution_count": 60,
   "id": "ad79b3ed",
   "metadata": {},
   "outputs": [],
   "source": [
    "X_test = X_train[1109826:]\n",
    "X_train = X_train[:1109826]"
   ]
  },
  {
   "cell_type": "code",
   "execution_count": 62,
   "id": "98ee0005",
   "metadata": {},
   "outputs": [
    {
     "data": {
      "text/plain": [
       "<1109826x526 sparse matrix of type '<class 'numpy.float64'>'\n",
       "\twith 2219652 stored elements in Compressed Sparse Row format>"
      ]
     },
     "execution_count": 62,
     "metadata": {},
     "output_type": "execute_result"
    }
   ],
   "source": [
    "X_train"
   ]
  },
  {
   "cell_type": "code",
   "execution_count": 63,
   "id": "d3feb185",
   "metadata": {},
   "outputs": [
    {
     "data": {
      "text/plain": [
       "LinearRegression()"
      ]
     },
     "execution_count": 63,
     "metadata": {},
     "output_type": "execute_result"
    }
   ],
   "source": [
    "target = 'duration'\n",
    "y_train = data1[target].values\n",
    "y_test = data2[target].values\n",
    "\n",
    "lr = LinearRegression()\n",
    "lr.fit(X_train, y_train)"
   ]
  },
  {
   "cell_type": "code",
   "execution_count": 64,
   "id": "819f935b",
   "metadata": {},
   "outputs": [
    {
     "data": {
      "text/plain": [
       "10.528519107205586"
      ]
     },
     "execution_count": 64,
     "metadata": {},
     "output_type": "execute_result"
    }
   ],
   "source": [
    "y_pred = lr.predict(X_train)\n",
    "mean_squared_error(y_train, y_pred, squared=False)"
   ]
  },
  {
   "cell_type": "code",
   "execution_count": 65,
   "id": "5ce77a03",
   "metadata": {},
   "outputs": [
    {
     "data": {
      "text/plain": [
       "<990113x526 sparse matrix of type '<class 'numpy.float64'>'\n",
       "\twith 1980226 stored elements in Compressed Sparse Row format>"
      ]
     },
     "execution_count": 65,
     "metadata": {},
     "output_type": "execute_result"
    }
   ],
   "source": [
    "X_test"
   ]
  },
  {
   "cell_type": "code",
   "execution_count": 66,
   "id": "8a92be5b",
   "metadata": {},
   "outputs": [
    {
     "data": {
      "text/plain": [
       "11.014283135824014"
      ]
     },
     "execution_count": 66,
     "metadata": {},
     "output_type": "execute_result"
    }
   ],
   "source": [
    "y_pred = lr.predict(X_test)\n",
    "mean_squared_error(y_test, y_pred, squared=False)"
   ]
  },
  {
   "cell_type": "code",
   "execution_count": null,
   "id": "b1a06288",
   "metadata": {},
   "outputs": [],
   "source": []
  }
 ],
 "metadata": {
  "kernelspec": {
   "display_name": "Python 3",
   "language": "python",
   "name": "python3"
  },
  "language_info": {
   "codemirror_mode": {
    "name": "ipython",
    "version": 3
   },
   "file_extension": ".py",
   "mimetype": "text/x-python",
   "name": "python",
   "nbconvert_exporter": "python",
   "pygments_lexer": "ipython3",
   "version": "3.8.8"
  }
 },
 "nbformat": 4,
 "nbformat_minor": 5
}
